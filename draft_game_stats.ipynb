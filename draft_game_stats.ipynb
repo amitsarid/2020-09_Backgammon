{
 "cells": [
  {
   "cell_type": "code",
   "execution_count": 1,
   "metadata": {},
   "outputs": [],
   "source": [
    "import os\n",
    "import pandas as pd\n",
    "from tqdm.notebook import tqdm"
   ]
  },
  {
   "cell_type": "code",
   "execution_count": 2,
   "metadata": {},
   "outputs": [],
   "source": [
    "log_dir = './logs/'\n",
    "files = [os.path.join(log_dir, v) for v in os.listdir('./logs/') if v.startswith('log')]"
   ]
  },
  {
   "cell_type": "code",
   "execution_count": 8,
   "metadata": {},
   "outputs": [],
   "source": [
    "def parse_game_log(file_path):\n",
    "    with open(file_path) as f:\n",
    "        content = f.readlines()\n",
    "\n",
    "    # Game Started\n",
    "    lines_game_started = list(filter(lambda x: x.startswith('Game Started'), content))\n",
    "    assert len(lines_game_started) > 0, 'no game started line found'\n",
    "    assert len(lines_game_started) == 1, 'multiple game started lines found'\n",
    "    _, start_datetime, python_version = lines_game_started[0].split(' - ')\n",
    "    start_datetime = pd.to_datetime(start_datetime)\n",
    "    content.remove(lines_game_started[0])\n",
    "\n",
    "    # Environment\n",
    "    lines_environment = list(filter(lambda x: x.startswith('[') and x.endswith('\\n'), content))\n",
    "    assert len(lines_environment) > 0, 'no environment line found'\n",
    "    assert len(lines_environment) == 1, 'multiple environment lines found'\n",
    "    environment = lines_environment[0].strip('[\\n')\n",
    "    content.remove(lines_environment[0])\n",
    "\n",
    "    # Gameplay\n",
    "    df = pd.Series(content).str.split(' - ', 1, expand=True)\n",
    "    df.columns = ['datetime', 'message']\n",
    "    df['message'] = df['message'].fillna(df['datetime'])\n",
    "    df['message_count'] = df['datetime'].str.match('20\\d{2}').cumsum()\n",
    "    df['datetime'] = pd.to_datetime(df['datetime'], errors='coerce')\n",
    "    df['datetime'] = df['datetime'].fillna(method='ffill')\n",
    "    df = df.groupby('message_count').agg({\n",
    "        'message': 'sum', \n",
    "        'datetime': 'first', \n",
    "    })\n",
    "    df['message'] = df['message'].apply(lambda x: x.replace('\\n', '').lower())\n",
    "    df['is_board_state'] = df['message'].str.match('board state - ')\n",
    "    df['board_count'] = (~df['is_board_state']).cumsum()\n",
    "    df = df.groupby('board_count').agg({\n",
    "        'datetime': [['datetime', 'min']], \n",
    "        'message': [['message', lambda x: [v for v in x if not v.startswith('board state')][0]], \n",
    "                    ['board_state', lambda x: [v for v in x if v.startswith('board state')][0].split(' - ')[1].strip('[]').split(', ')]], \n",
    "    })\n",
    "    df.columns = df.columns.droplevel(0)\n",
    "    df[['player_turn', 'dice']] = df['message'].str.extract('next turn - (\\w+) to play : (.+)')\n",
    "    df['turn'] = (~df['player_turn'].isnull()).cumsum()\n",
    "    df['player_turn'] = df['player_turn'].fillna(method='ffill')\n",
    "    df['dice'] = df['dice'].fillna(method='ffill')\n",
    "    df['move'] = df['message'].str.extract('player [a-z]+ made the move \\(([\\d, ]+)\\)$')\n",
    "    df['move'] = df['move'].apply(lambda x: None if pd.isna(x) else x.split(', '))\n",
    "    winner_values = df['message'].str.extract('game won by ([a-z]+) player').dropna().values\n",
    "    assert len(winner_values) <= 1, 'there are more than one winner lines'\n",
    "    winner = winner_values[0][0] if len(winner_values) > 0 else 'Unknown'\n",
    "    df = df.set_index('datetime')\n",
    "    \n",
    "    # Arrange and publish\n",
    "    result = {'game_start': start_datetime, 'environment': environment, 'python_version': python_version, 'winner': winner, 'game_df': df}\n",
    "    return result"
   ]
  },
  {
   "cell_type": "code",
   "execution_count": 9,
   "metadata": {},
   "outputs": [
    {
     "data": {
      "application/vnd.jupyter.widget-view+json": {
       "model_id": "bb03271bb49a43dba8bf857f89f6c36a",
       "version_major": 2,
       "version_minor": 0
      },
      "text/plain": [
       "HBox(children=(FloatProgress(value=0.0, max=85.0), HTML(value='')))"
      ]
     },
     "metadata": {},
     "output_type": "display_data"
    },
    {
     "name": "stdout",
     "output_type": "stream",
     "text": [
      "\n"
     ]
    }
   ],
   "source": [
    "# df.iloc[0].values\n",
    "# pd.read_csv(files[0], delimiter=' - ')\n",
    "games_log_data_list = list()\n",
    "for file in tqdm(files):\n",
    "    games_log_data_list.append(parse_game_log(file))\n",
    "games_log_data_df = pd.DataFrame(games_log_data_list)"
   ]
  },
  {
   "cell_type": "code",
   "execution_count": 10,
   "metadata": {},
   "outputs": [
    {
     "name": "stdout",
     "output_type": "stream",
     "text": [
      "85 games played from 2020-09-10 to 2020-09-12.\n",
      "Winning stats: \n"
     ]
    },
    {
     "data": {
      "text/html": [
       "<div>\n",
       "<style scoped>\n",
       "    .dataframe tbody tr th:only-of-type {\n",
       "        vertical-align: middle;\n",
       "    }\n",
       "\n",
       "    .dataframe tbody tr th {\n",
       "        vertical-align: top;\n",
       "    }\n",
       "\n",
       "    .dataframe thead th {\n",
       "        text-align: right;\n",
       "    }\n",
       "</style>\n",
       "<table border=\"1\" class=\"dataframe\">\n",
       "  <thead>\n",
       "    <tr style=\"text-align: right;\">\n",
       "      <th></th>\n",
       "      <th>winner</th>\n",
       "    </tr>\n",
       "  </thead>\n",
       "  <tbody>\n",
       "    <tr>\n",
       "      <th>black</th>\n",
       "      <td>62.352941</td>\n",
       "    </tr>\n",
       "    <tr>\n",
       "      <th>red</th>\n",
       "      <td>29.411765</td>\n",
       "    </tr>\n",
       "    <tr>\n",
       "      <th>Unknown</th>\n",
       "      <td>8.235294</td>\n",
       "    </tr>\n",
       "  </tbody>\n",
       "</table>\n",
       "</div>"
      ],
      "text/plain": [
       "            winner\n",
       "black    62.352941\n",
       "red      29.411765\n",
       "Unknown   8.235294"
      ]
     },
     "metadata": {},
     "output_type": "display_data"
    }
   ],
   "source": [
    "print(games_log_data_df.shape[0], 'games played from', \n",
    "      games_log_data_df['game_start'].dt.date.min(), 'to', games_log_data_df['game_start'].dt.date.max(), '\\b.')\n",
    "print('Winning stats: '), \n",
    "display(pd.DataFrame(games_log_data_df['winner'].value_counts(normalize=True)*100))\n"
   ]
  },
  {
   "cell_type": "code",
   "execution_count": 19,
   "metadata": {},
   "outputs": [
    {
     "data": {
      "text/html": [
       "<div>\n",
       "<style scoped>\n",
       "    .dataframe tbody tr th:only-of-type {\n",
       "        vertical-align: middle;\n",
       "    }\n",
       "\n",
       "    .dataframe tbody tr th {\n",
       "        vertical-align: top;\n",
       "    }\n",
       "\n",
       "    .dataframe thead th {\n",
       "        text-align: right;\n",
       "    }\n",
       "</style>\n",
       "<table border=\"1\" class=\"dataframe\">\n",
       "  <thead>\n",
       "    <tr style=\"text-align: right;\">\n",
       "      <th></th>\n",
       "      <th>game_start</th>\n",
       "      <th>environment</th>\n",
       "      <th>python_version</th>\n",
       "      <th>winner</th>\n",
       "      <th>game_df</th>\n",
       "    </tr>\n",
       "  </thead>\n",
       "  <tbody>\n",
       "    <tr>\n",
       "      <th>5</th>\n",
       "      <td>2020-09-12 21:51:52.951782</td>\n",
       "      <td>Clang 4.0.1 (tags/RELEASE_401/final)] on Amits...</td>\n",
       "      <td>3.7.6 (default, Jan  8 2020, 13:42:34) \\n</td>\n",
       "      <td>black</td>\n",
       "      <td>...</td>\n",
       "    </tr>\n",
       "    <tr>\n",
       "      <th>23</th>\n",
       "      <td>2020-09-12 21:56:31.474012</td>\n",
       "      <td>Clang 4.0.1 (tags/RELEASE_401/final)] on Amits...</td>\n",
       "      <td>3.7.6 (default, Jan  8 2020, 13:42:34) \\n</td>\n",
       "      <td>black</td>\n",
       "      <td>...</td>\n",
       "    </tr>\n",
       "    <tr>\n",
       "      <th>57</th>\n",
       "      <td>2020-09-12 21:59:05.390822</td>\n",
       "      <td>Clang 4.0.1 (tags/RELEASE_401/final)] on Amits...</td>\n",
       "      <td>3.7.6 (default, Jan  8 2020, 13:42:34) \\n</td>\n",
       "      <td>black</td>\n",
       "      <td>...</td>\n",
       "    </tr>\n",
       "    <tr>\n",
       "      <th>24</th>\n",
       "      <td>2020-09-12 22:05:25.011168</td>\n",
       "      <td>Clang 4.0.1 (tags/RELEASE_401/final)] on Amits...</td>\n",
       "      <td>3.7.6 (default, Jan  8 2020, 13:42:34) \\n</td>\n",
       "      <td>red</td>\n",
       "      <td>...</td>\n",
       "    </tr>\n",
       "    <tr>\n",
       "      <th>41</th>\n",
       "      <td>2020-09-12 22:08:55.064548</td>\n",
       "      <td>Clang 4.0.1 (tags/RELEASE_401/final)] on Amits...</td>\n",
       "      <td>3.7.6 (default, Jan  8 2020, 13:42:34) \\n</td>\n",
       "      <td>black</td>\n",
       "      <td>...</td>\n",
       "    </tr>\n",
       "  </tbody>\n",
       "</table>\n",
       "</div>"
      ],
      "text/plain": [
       "                   game_start  \\\n",
       "5  2020-09-12 21:51:52.951782   \n",
       "23 2020-09-12 21:56:31.474012   \n",
       "57 2020-09-12 21:59:05.390822   \n",
       "24 2020-09-12 22:05:25.011168   \n",
       "41 2020-09-12 22:08:55.064548   \n",
       "\n",
       "                                          environment  \\\n",
       "5   Clang 4.0.1 (tags/RELEASE_401/final)] on Amits...   \n",
       "23  Clang 4.0.1 (tags/RELEASE_401/final)] on Amits...   \n",
       "57  Clang 4.0.1 (tags/RELEASE_401/final)] on Amits...   \n",
       "24  Clang 4.0.1 (tags/RELEASE_401/final)] on Amits...   \n",
       "41  Clang 4.0.1 (tags/RELEASE_401/final)] on Amits...   \n",
       "\n",
       "                               python_version winner  \\\n",
       "5   3.7.6 (default, Jan  8 2020, 13:42:34) \\n  black   \n",
       "23  3.7.6 (default, Jan  8 2020, 13:42:34) \\n  black   \n",
       "57  3.7.6 (default, Jan  8 2020, 13:42:34) \\n  black   \n",
       "24  3.7.6 (default, Jan  8 2020, 13:42:34) \\n    red   \n",
       "41  3.7.6 (default, Jan  8 2020, 13:42:34) \\n  black   \n",
       "\n",
       "                                              game_df  \n",
       "5                                                 ...  \n",
       "23                                                ...  \n",
       "57                                                ...  \n",
       "24                                                ...  \n",
       "41                                                ...  "
      ]
     },
     "execution_count": 19,
     "metadata": {},
     "output_type": "execute_result"
    }
   ],
   "source": [
    "games_log_data_df.sort_values('game_start').tail(5)"
   ]
  },
  {
   "cell_type": "code",
   "execution_count": null,
   "metadata": {},
   "outputs": [],
   "source": []
  }
 ],
 "metadata": {
  "kernelspec": {
   "display_name": "Python 3",
   "language": "python",
   "name": "python3"
  },
  "language_info": {
   "codemirror_mode": {
    "name": "ipython",
    "version": 3
   },
   "file_extension": ".py",
   "mimetype": "text/x-python",
   "name": "python",
   "nbconvert_exporter": "python",
   "pygments_lexer": "ipython3",
   "version": "3.7.6"
  }
 },
 "nbformat": 4,
 "nbformat_minor": 4
}
